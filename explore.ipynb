{
 "cells": [
  {
   "cell_type": "code",
   "execution_count": 151,
   "metadata": {},
   "outputs": [],
   "source": [
    "import requests\n",
    "import json\n",
    "import pandas as pd\n",
    "import xml.etree.ElementTree as ET\n",
    "import re"
   ]
  },
  {
   "cell_type": "code",
   "execution_count": 152,
   "metadata": {},
   "outputs": [],
   "source": [
    "with open('secrets.json', 'r') as file:\n",
    "\tsecrets = json.load(file)\n",
    "\tCONGRESS_API_KEY = secrets['CONGRESS-API-KEY']\n",
    "\tPROPUBLICA_API_KEY = secrets['PROPUBLICA-API-KEY']"
   ]
  },
  {
   "cell_type": "code",
   "execution_count": 153,
   "metadata": {},
   "outputs": [],
   "source": [
    "url = f\"https://api.congress.gov/v3/bill?api_key={CONGRESS_API_KEY}\"\n",
    "response = requests.get(url)\n",
    "\n",
    "recent_bills = response.json()"
   ]
  },
  {
   "cell_type": "code",
   "execution_count": 154,
   "metadata": {},
   "outputs": [],
   "source": [
    "def get_bill_data(congress, bill_type, bill_number):\n",
    "\turl = f\"https://api.congress.gov/v3/bill/{congress}/{bill_type}/{bill_number}/text?api_key={CONGRESS_API_KEY}\"\n",
    "\tresponse = requests.get(url)\n",
    "\tdata = response.json()\n",
    "\treturn data"
   ]
  },
  {
   "cell_type": "code",
   "execution_count": 155,
   "metadata": {},
   "outputs": [],
   "source": [
    "def get_bill_text_url(bill_data):\n",
    "\ttry:\n",
    "\t\ttext_versions = bill_data['textVersions']\n",
    "\t\tformats = text_versions[0]['formats']\n",
    "\t\turls = [x for x in formats if x['type'] == 'Formatted Text']\n",
    "\t\turl = urls[0]['url']\n",
    "\t\treturn url\n",
    "\texcept:\n",
    "\t\treturn None"
   ]
  },
  {
   "cell_type": "code",
   "execution_count": 156,
   "metadata": {},
   "outputs": [],
   "source": [
    "def get_bill_text(url):\n",
    "\tresponse = requests.get(url)\n",
    "\treturn response.text"
   ]
  },
  {
   "cell_type": "code",
   "execution_count": 157,
   "metadata": {},
   "outputs": [],
   "source": [
    "def get_length(text):\n",
    "\ttext = text.replace('\\n', '')\n",
    "\tlen_opening = len('<html><body><pre>')\n",
    "\tlen_closing = len('</pre></body></html>')\n",
    "\n",
    "\ttext = text[len_opening:-len_closing]\n",
    "\n",
    "\ttext = re.findall(r'[a-zA-Z ]', text)\n",
    "\twords = ''.join(text).split(' ')\n",
    "\n",
    "\twords = [x for x in words if x != '']\n",
    "\n",
    "\treturn len(words)"
   ]
  },
  {
   "cell_type": "code",
   "execution_count": 158,
   "metadata": {},
   "outputs": [
    {
     "name": "stdout",
     "output_type": "stream",
     "text": [
      "hr/300: 1299 words  --> https://www.congress.gov/118/bills/hr300/BILLS-118hr300eh.htm\n",
      "hr/400: 160 words  --> https://www.congress.gov/118/bills/hr400/BILLS-118hr400ih.htm\n",
      "hr/346: 617 words  --> https://www.congress.gov/118/bills/hr346/BILLS-118hr346ih.htm\n"
     ]
    }
   ],
   "source": [
    "for bill in recent_bills['bills']:\n",
    "\ttype = bill['type'].lower()\n",
    "\tnumber = bill['number']\n",
    "\tcongress = bill['congress']\n",
    "\n",
    "\tif type == 'hr':\n",
    "\t\tbill_data = get_bill_data(congress, type, number)\n",
    "\t\turl = get_bill_text_url(bill_data)\n",
    "\t\tif url:\n",
    "\t\t\ttext = get_bill_text(url)\n",
    "\t\t\tlength = get_length(text)\n",
    "\t\t\tprint(f'{type}/{number}: {length} words  --> {url}')"
   ]
  },
  {
   "cell_type": "code",
   "execution_count": null,
   "metadata": {},
   "outputs": [],
   "source": []
  }
 ],
 "metadata": {
  "kernelspec": {
   "display_name": "congress",
   "language": "python",
   "name": "python3"
  },
  "language_info": {
   "codemirror_mode": {
    "name": "ipython",
    "version": 3
   },
   "file_extension": ".py",
   "mimetype": "text/x-python",
   "name": "python",
   "nbconvert_exporter": "python",
   "pygments_lexer": "ipython3",
   "version": "3.8.16"
  },
  "orig_nbformat": 4,
  "vscode": {
   "interpreter": {
    "hash": "4ac0879ade991257fee804b5c3b9d553ab7d9714fefdccec97b495e738f5987a"
   }
  }
 },
 "nbformat": 4,
 "nbformat_minor": 2
}
